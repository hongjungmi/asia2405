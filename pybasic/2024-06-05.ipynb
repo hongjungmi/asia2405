{
 "cells": [
  {
   "cell_type": "code",
   "execution_count": 1,
   "metadata": {},
   "outputs": [
    {
     "data": {
      "text/plain": [
       "'\\n    [에러와 예외]\\n    1. 에러\\n        문법적 오류\\n    2. 예외 ( IO 관련된 작업인 경우 반드시 구현해야 한다)\\n        실행시 발생하는 오류로 예외가 발생하면 프로그램이 비정상 종료된다\\n\\n    [예외처리]\\n    try:\\n        예외 발생 가능 문장들\\n    except Exception:\\n        예외가 발생한 후에 실행할 문장들\\n    else:\\n        예외가 발생하지 않았을 때 실행되는 문장들\\n    finally:\\n        예외 발생 여부와 상관없이 무조건 실행되는 문장들\\n\\n    [참고] 파이썬 내장 예외\\n        https://docs.python.org/3/library/exceptions.html\\n'"
      ]
     },
     "execution_count": 1,
     "metadata": {},
     "output_type": "execute_result"
    }
   ],
   "source": [
    "\"\"\"\n",
    "    [에러와 예외]\n",
    "    1. 에러\n",
    "        문법적 오류\n",
    "    2. 예외 ( IO 관련된 작업인 경우 반드시 구현해야 한다)\n",
    "        실행시 발생하는 오류로 예외가 발생하면 프로그램이 비정상 종료된다\n",
    "\n",
    "    [예외처리]\n",
    "    try:\n",
    "        예외 발생 가능 문장들\n",
    "    except Exception:\n",
    "        예외가 발생한 후에 실행할 문장들\n",
    "    else:\n",
    "        예외가 발생하지 않았을 때 실행되는 문장들\n",
    "    finally:\n",
    "        예외 발생 여부와 상관없이 무조건 실행되는 문장들\n",
    "\n",
    "    [참고] 파이썬 내장 예외\n",
    "        https://docs.python.org/3/library/exceptions.html\n",
    "\"\"\""
   ]
  },
  {
   "cell_type": "code",
   "execution_count": 3,
   "metadata": {},
   "outputs": [
    {
     "ename": "ZeroDivisionError",
     "evalue": "division by zero",
     "output_type": "error",
     "traceback": [
      "\u001b[1;31m---------------------------------------------------------------------------\u001b[0m",
      "\u001b[1;31mZeroDivisionError\u001b[0m                         Traceback (most recent call last)",
      "Cell \u001b[1;32mIn[3], line 1\u001b[0m\n\u001b[1;32m----> 1\u001b[0m \u001b[38;5;241;43m10\u001b[39;49m\u001b[38;5;241;43m/\u001b[39;49m\u001b[38;5;241;43m0\u001b[39;49m   \u001b[38;5;66;03m#이것을 예외로 생각한다\u001b[39;00m\n",
      "\u001b[1;31mZeroDivisionError\u001b[0m: division by zero"
     ]
    }
   ],
   "source": [
    "10/0   #이것을 예외로 생각한다"
   ]
  },
  {
   "cell_type": "code",
   "execution_count": 8,
   "metadata": {},
   "outputs": [
    {
     "name": "stdout",
     "output_type": "stream",
     "text": [
      "예외 :  division by zero\n",
      "무조건실행!\n"
     ]
    }
   ],
   "source": [
    "try:\n",
    "    10/0\n",
    "except Exception as e:\n",
    "    #print('나누는 수가 0이다')\n",
    "    print('예외 : ',e)\n",
    "else:\n",
    "    print('예외없음')\n",
    "finally:\n",
    "    print('무조건실행!')"
   ]
  },
  {
   "cell_type": "code",
   "execution_count": 9,
   "metadata": {},
   "outputs": [
    {
     "data": {
      "text/plain": [
       "\"\\n@ 파일 읽고 쓰기\\n    - 파일을 읽고 쓰기 전에 파일을 열어야 한다\\n    - fileObj = open ( filename, mode )\\n            mode 첫번째 글자 - 작업 표시\\n            r(read)  : 파일 읽기\\n            w(write) : 파일 쓰기 ( 파일이 없으면 생성하고 파일이 있으면 덮어쓴다 )\\n            x(write) : 파일 쓰기 ( 파일이 없을 때만 생성하고 쓴다 )\\n            a(append) : 파일 추가 ( 파일이 있으면 파일의 끝에서부터 추가하여 쓴다 )\\n\\n            mode 두번째 글자 - 파일 타입\\n            t : 텍스트(text) 타입 ( 기본값 )\\n            b : 이진(binary) 타입\\n            두번째 글자가 없으면 텍스트 타입이다.\\n\\n            encoding='utf-8' : 한글\\n\\n    - 파일을 열고 사용 후에는 반드시 닫아야 한다\\n\\n    \\n\""
      ]
     },
     "execution_count": 9,
     "metadata": {},
     "output_type": "execute_result"
    }
   ],
   "source": [
    "\"\"\"\n",
    "@ 파일 읽고 쓰기\n",
    "    - 파일을 읽고 쓰기 전에 파일을 열어야 한다\n",
    "    - fileObj = open ( filename, mode )\n",
    "            mode 첫번째 글자 - 작업 표시\n",
    "            r(read)  : 파일 읽기\n",
    "            w(write) : 파일 쓰기 ( 파일이 없으면 생성하고 파일이 있으면 덮어쓴다 )\n",
    "            x(write) : 파일 쓰기 ( 파일이 없을 때만 생성하고 쓴다 )\n",
    "            a(append) : 파일 추가 ( 파일이 있으면 파일의 끝에서부터 추가하여 쓴다 )\n",
    "\n",
    "            mode 두번째 글자 - 파일 타입\n",
    "            t : 텍스트(text) 타입 ( 기본값 )\n",
    "            b : 이진(binary) 타입\n",
    "            두번째 글자가 없으면 텍스트 타입이다.\n",
    "\n",
    "            encoding='utf-8' : 한글\n",
    "\n",
    "    - 파일을 열고 사용 후에는 반드시 닫아야 한다\n",
    "    *** 자동으로 닫아주는 with 형식을 많이 사용한다 ***\n",
    "    이걸 사용해서 해보겠삼 \n",
    "\n",
    "    \n",
    "\"\"\""
   ]
  },
  {
   "cell_type": "code",
   "execution_count": 14,
   "metadata": {},
   "outputs": [
    {
     "name": "stdout",
     "output_type": "stream",
     "text": [
      "오늘은 파일을 열고 닫고.....\n",
      "\n",
      "접근 연습으로 시작하니다\n",
      "\n",
      "종료!\n"
     ]
    }
   ],
   "source": [
    "try:   #try가 있으면 무적권 except 가 있어야함 \n",
    "    f = open('./data/data.txt','r',encoding='utf-8') #<<요 파일을 불러오셈\n",
    "except FileNotFoundError as e:  # << 만약 오류가 난다면 예외처리를 할거임\n",
    "    print('파일을 찾을 수 없습니다.>',e)  #<< 오류가 난다면 이 문장을 출력하셈\n",
    "else:\n",
    "    while True: #<< 오류가 안나면\n",
    "        line = f.readline() #<< 한 줄씩 읽기 (라인스킵 포함)\n",
    "        if not line:break # 다읽으면 멈추셈\n",
    "        print(line) # 일단 라인을 출력하셈 ,end = ' ' 입력시 한칸띄기 없어짐\n",
    "    f.close() # 끄읏\n",
    "finally:\n",
    "    print('\\n종료!') #<< 끝났으니 엔터하고 종료를 출력하셈"
   ]
  },
  {
   "cell_type": "code",
   "execution_count": 18,
   "metadata": {},
   "outputs": [
    {
     "name": "stdout",
     "output_type": "stream",
     "text": [
      "오늘은 파일을 열고 닫고.....\n",
      "접근 연습으로 시작하니다\n",
      "종료2\n"
     ]
    }
   ],
   "source": [
    "with open('./data/data.txt','r',encoding='utf-8') as f: # 위에서 말한 with로 열거임\n",
    "    while True: #<< 오류가 안나면\n",
    "        line = f.readline() #<< 한 줄씩 읽기 (라인스킵 포함)\n",
    "        if not line:break # 다읽으면 멈추셈\n",
    "        print(line, end = '') # 일단 라인을 출력하셈 ,end = ' ' 입력시 한칸띄기 없어짐\n",
    "    f.close() # 끄읏\n",
    "print('\\n종료2')\n"
   ]
  },
  {
   "cell_type": "code",
   "execution_count": 27,
   "metadata": {},
   "outputs": [
    {
     "name": "stdout",
     "output_type": "stream",
     "text": [
      "파일명 : ./data/data.txt,총 단어수 :7\n"
     ]
    }
   ],
   "source": [
    "filename = './data/data.txt'\n",
    "with open (filename, 'r', encoding='utf-8') as f:\n",
    "    contents = f.read()\n",
    "    words = contents.split()\n",
    "    num = len(words)\n",
    "print('파일명 : ' + filename + ',총 단어수 :' + str(num))"
   ]
  },
  {
   "cell_type": "code",
   "execution_count": 33,
   "metadata": {},
   "outputs": [
    {
     "name": "stdout",
     "output_type": "stream",
     "text": [
      "파일명 ./data/data.txt, 총 단어수: 7\n"
     ]
    }
   ],
   "source": [
    "def count_words(filename):\n",
    "    try:\n",
    "        with open(f'./data/{filename}' , encoding='utf-8') as f:\n",
    "            contents = f.read()\n",
    "    except FileNotFoundError:\n",
    "        pass\n",
    "    else:\n",
    "        words = contents.split()\n",
    "        num_words = len(words)\n",
    "        print(f'파일명 {f.name}, 총 단어수: {str(num)}')\n",
    "count_words('data.txt')\n",
    "  "
   ]
  },
  {
   "cell_type": "code",
   "execution_count": null,
   "metadata": {},
   "outputs": [],
   "source": []
  }
 ],
 "metadata": {
  "kernelspec": {
   "display_name": "Python 3",
   "language": "python",
   "name": "python3"
  },
  "language_info": {
   "codemirror_mode": {
    "name": "ipython",
    "version": 3
   },
   "file_extension": ".py",
   "mimetype": "text/x-python",
   "name": "python",
   "nbconvert_exporter": "python",
   "pygments_lexer": "ipython3",
   "version": "3.11.3"
  }
 },
 "nbformat": 4,
 "nbformat_minor": 2
}
