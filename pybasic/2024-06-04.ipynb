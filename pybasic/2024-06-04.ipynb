{
 "cells": [
  {
   "cell_type": "code",
   "execution_count": 2,
   "metadata": {},
   "outputs": [
    {
     "name": "stdout",
     "output_type": "stream",
     "text": [
      "k\n",
      "j\n"
     ]
    }
   ],
   "source": [
    "# loop\n",
    "a = 123\n",
    "b = ['1','2','3']\n",
    "c = '456'\n",
    "d = tuple(b)\n",
    "e = dict(k = 5, j = 6)\n",
    "\n",
    "for i in e:    # a만 사용 안됨 (집합객체만 반복문과 사용가능)\n",
    "    print(i)"
   ]
  },
  {
   "cell_type": "code",
   "execution_count": 10,
   "metadata": {},
   "outputs": [
    {
     "name": "stdout",
     "output_type": "stream",
     "text": [
      "('k', 5)\n",
      "key: k value: 5\n",
      "('j', 6)\n",
      "key: j value: 6\n"
     ]
    }
   ],
   "source": [
    "for i in e.items(): # item 키의 모든 것은 반환해주는 것\n",
    "    print(i)\n",
    "    print('key:', i[0], 'value:', i[1])"
   ]
  },
  {
   "cell_type": "code",
   "execution_count": 13,
   "metadata": {},
   "outputs": [
    {
     "name": "stdout",
     "output_type": "stream",
     "text": [
      "25\n"
     ]
    }
   ],
   "source": [
    "# 1~10까지 홀수의 합계를 구하기\n",
    "sum = 0\n",
    "for i in range(1,11,2):\n",
    "    sum += i\n",
    "print(sum)"
   ]
  },
  {
   "cell_type": "code",
   "execution_count": 16,
   "metadata": {},
   "outputs": [
    {
     "name": "stdout",
     "output_type": "stream",
     "text": [
      "2*1=2\n",
      "2*2=4\n",
      "2*3=6\n",
      "2*4=8\n",
      "2*5=10\n",
      "2*6=12\n",
      "2*7=14\n",
      "2*8=16\n",
      "2*9=18\n",
      "3*1=3\n",
      "3*2=6\n",
      "3*3=9\n",
      "3*4=12\n",
      "3*5=15\n",
      "3*6=18\n",
      "3*7=21\n",
      "3*8=24\n",
      "3*9=27\n",
      "4*1=4\n",
      "4*2=8\n",
      "4*3=12\n",
      "4*4=16\n",
      "4*5=20\n",
      "4*6=24\n",
      "4*7=28\n",
      "4*8=32\n",
      "4*9=36\n",
      "5*1=5\n",
      "5*2=10\n",
      "5*3=15\n",
      "5*4=20\n",
      "5*5=25\n",
      "5*6=30\n",
      "5*7=35\n",
      "5*8=40\n",
      "5*9=45\n",
      "6*1=6\n",
      "6*2=12\n",
      "6*3=18\n",
      "6*4=24\n",
      "6*5=30\n",
      "6*6=36\n",
      "6*7=42\n",
      "6*8=48\n",
      "6*9=54\n",
      "7*1=7\n",
      "7*2=14\n",
      "7*3=21\n",
      "7*4=28\n",
      "7*5=35\n",
      "7*6=42\n",
      "7*7=49\n",
      "7*8=56\n",
      "7*9=63\n",
      "8*1=8\n",
      "8*2=16\n",
      "8*3=24\n",
      "8*4=32\n",
      "8*5=40\n",
      "8*6=48\n",
      "8*7=56\n",
      "8*8=64\n",
      "8*9=72\n",
      "9*1=9\n",
      "9*2=18\n",
      "9*3=27\n",
      "9*4=36\n",
      "9*5=45\n",
      "9*6=54\n",
      "9*7=63\n",
      "9*8=72\n",
      "9*9=81\n"
     ]
    }
   ],
   "source": [
    "# 우정님 방법 \n",
    "dan = int(input(\"몇단까지 출력함? :\"))\n",
    "for j in range(2,dan+1):\n",
    "    for i in range(1,10):\n",
    "        print(\"{}*{}={}\".format(j,i,j*i))\n",
    "# gpt 방법\n",
    "\"\"\"# 1단부터 9단까지 구구단을 출력하는 코드\n",
    "for i in range(1, 10):\n",
    "    for j in range(1, 10):\n",
    "        print(f\"{i} x {j} = {i * j}\")\n",
    "    print()  # 각 단을 구분하기 위해 빈 줄을 추가\"\"\""
   ]
  },
  {
   "cell_type": "code",
   "execution_count": 26,
   "metadata": {},
   "outputs": [
    {
     "name": "stdout",
     "output_type": "stream",
     "text": [
      "z\n",
      "y\n"
     ]
    }
   ],
   "source": [
    "# for : 명확한 실행 횟수(집합객체의 끝)가 전해졌을때 많이 사용하고\n",
    "# while : 반복횟수가 정해지지 않았을때 많이 사용\n",
    "\n",
    "w=['x','y','z']\n",
    "while w:\n",
    "    data = w.pop()\n",
    "    print(data)\n",
    "    #y를 만나면 제어블럭 닫음\n",
    "    if data == 'y' :break\n",
    "else:\n",
    "    print('end')"
   ]
  },
  {
   "cell_type": "code",
   "execution_count": 28,
   "metadata": {},
   "outputs": [
    {
     "data": {
      "text/plain": [
       "'복'"
      ]
     },
     "execution_count": 28,
     "metadata": {},
     "output_type": "execute_result"
    }
   ],
   "source": [
    "# 요소 분해하기\n",
    "msg = '행복해'\n",
    "c1,c2,c3 = msg\n",
    "c2"
   ]
  },
  {
   "cell_type": "code",
   "execution_count": 30,
   "metadata": {},
   "outputs": [
    {
     "name": "stdout",
     "output_type": "stream",
     "text": [
      "[('월', '잠자기'), ('화', '공부하기'), ('수', '놀기')]\n"
     ]
    }
   ],
   "source": [
    "# 여러 시퀀스 순회하기 : zip() 함수\n",
    "days = ['월','화','수']\n",
    "doit = ['잠자기','공부하기','놀기','밥먹기']\n",
    "#print(zip(days, doit))\n",
    "print(list(zip(days, doit)))"
   ]
  },
  {
   "cell_type": "code",
   "execution_count": 31,
   "metadata": {},
   "outputs": [
    {
     "name": "stdout",
     "output_type": "stream",
     "text": [
      "{'월': '잠자기', '화': '공부하기', '수': '놀기'}\n"
     ]
    }
   ],
   "source": [
    "print(dict(zip(days, doit)))"
   ]
  },
  {
   "cell_type": "code",
   "execution_count": 32,
   "metadata": {},
   "outputs": [
    {
     "name": "stdout",
     "output_type": "stream",
     "text": [
      "('월', '잠자기')\n",
      "('화', '공부하기')\n",
      "('수', '놀기')\n"
     ]
    }
   ],
   "source": [
    "for data in zip(days,doit):\n",
    "    print(data)"
   ]
  },
  {
   "cell_type": "code",
   "execution_count": 33,
   "metadata": {},
   "outputs": [
    {
     "name": "stdout",
     "output_type": "stream",
     "text": [
      "월 잠자기\n",
      "화 공부하기\n",
      "수 놀기\n"
     ]
    }
   ],
   "source": [
    "for yoil,halil in zip(days,doit):\n",
    "    print(yoil, halil)"
   ]
  },
  {
   "cell_type": "markdown",
   "metadata": {},
   "source": [
    "컴프리핸션 (comprehension)\n",
    "    ` 하나 이상의 이터레이터(요소만 뽑아낸 것들?)로부터 파이썬 자료구조를 만드는 컴팩트(******)한 방법\n",
    "    ` 비교적 간단한 구문으로 반복문과 조건 테스트를 결합\n",
    "\n",
    "    * 리스트 컨프리핸션\n",
    "        [ 표현식 for 항목 in 순회가능객체 ]\n",
    "        [ 표현식 for 항목 in 순회가능객체 if 조건 ]\n",
    "\n",
    "    * 딕셔러리 컨프리핸션\n",
    "        { 키_표현식: 값_표현식 for 표현식 in 순회가능객체 }\n",
    "\n",
    "    * 셋 컨프리핸션\n",
    "        { 표현식 for 표현식 in 순회가능객체 }"
   ]
  },
  {
   "cell_type": "code",
   "execution_count": 35,
   "metadata": {},
   "outputs": [
    {
     "name": "stdout",
     "output_type": "stream",
     "text": [
      "[1, 2, 3, 4, 5, 6]\n"
     ]
    }
   ],
   "source": [
    "alist =[]\n",
    "for n in range(1,7):\n",
    "    alist.append(n)\n",
    "print(alist)\n",
    "\n",
    "# alist = list(range(1,7))"
   ]
  },
  {
   "cell_type": "code",
   "execution_count": 39,
   "metadata": {},
   "outputs": [
    {
     "data": {
      "text/plain": [
       "[1, 2, 3, 4, 5, 6]"
      ]
     },
     "execution_count": 39,
     "metadata": {},
     "output_type": "execute_result"
    }
   ],
   "source": [
    "blist = [n for n in range(1,7)]\n",
    "blist"
   ]
  },
  {
   "cell_type": "code",
   "execution_count": 40,
   "metadata": {},
   "outputs": [
    {
     "data": {
      "text/plain": [
       "[0, 1, 2, 3, 4, 5]"
      ]
     },
     "execution_count": 40,
     "metadata": {},
     "output_type": "execute_result"
    }
   ],
   "source": [
    "blist = [n-1 for n in range(1,7)]\n",
    "blist"
   ]
  },
  {
   "cell_type": "code",
   "execution_count": 42,
   "metadata": {},
   "outputs": [
    {
     "data": {
      "text/plain": [
       "[1, 9, 25]"
      ]
     },
     "execution_count": 42,
     "metadata": {},
     "output_type": "execute_result"
    }
   ],
   "source": [
    "blist = [n**2 for n in range(1,7) if n%2 == 1]\n",
    "blist"
   ]
  },
  {
   "cell_type": "code",
   "execution_count": 43,
   "metadata": {},
   "outputs": [
    {
     "data": {
      "text/plain": [
       "[(1, 1), (1, 2), (1, 3), (2, 1), (2, 2), (2, 3)]"
      ]
     },
     "execution_count": 43,
     "metadata": {},
     "output_type": "execute_result"
    }
   ],
   "source": [
    "blist = [(n,c) for n in range(1,3) for c in range(1,4)]\n",
    "blist"
   ]
  },
  {
   "cell_type": "code",
   "execution_count": 44,
   "metadata": {},
   "outputs": [
    {
     "data": {
      "text/plain": [
       "{2: 4, 3: 9, 4: 16}"
      ]
     },
     "execution_count": 44,
     "metadata": {},
     "output_type": "execute_result"
    }
   ],
   "source": [
    "datas = (2,3,4)\n",
    "adic = {x: x**2 for x in datas}\n",
    "adic"
   ]
  },
  {
   "cell_type": "code",
   "execution_count": 45,
   "metadata": {},
   "outputs": [],
   "source": [
    "word = 'LOVE LOL'\n",
    "wcnt = {}  #문자열을 순회하여 Letter에 담고 키:글자 / 값:word 에 들어있는 글자의 수를 가진 딕셔너리를 생성\n"
   ]
  },
  {
   "cell_type": "code",
   "execution_count": 52,
   "metadata": {},
   "outputs": [
    {
     "data": {
      "text/plain": [
       "{'L': 3, 'O': 2, 'V': 1, 'E': 1}"
      ]
     },
     "execution_count": 52,
     "metadata": {},
     "output_type": "execute_result"
    }
   ],
   "source": [
    "word = 'LOVE LOL'\n",
    "wcnt = {letter:word.count(letter) for letter in set(word) if x !=' '} \n",
    "wcnt"
   ]
  },
  {
   "cell_type": "code",
   "execution_count": 62,
   "metadata": {},
   "outputs": [
    {
     "data": {
      "text/plain": [
       "[(0, '취하고싶으면달려라'),\n",
       " (1, '                맡은업무는반드시마치자'),\n",
       " (2, '                노력없는성과는없다'),\n",
       " (3, '                구글신과함께공부하자')]"
      ]
     },
     "execution_count": 62,
     "metadata": {},
     "output_type": "execute_result"
    }
   ],
   "source": [
    "# 프로젝트 팀구호\n",
    "우리의결의 = \"\"\"취하고싶으면달려라\n",
    "                맡은업무는반드시마치자\n",
    "                노력없는성과는없다\n",
    "                구글신과함께공부하자\"\"\"\n",
    "\n",
    "result = [(i,j) for i, j in enumerate(우리의결의.splitlines())]  #각 요소와 인덱스를 함께 가져옴\n",
    "result"
   ]
  },
  {
   "cell_type": "code",
   "execution_count": 64,
   "metadata": {},
   "outputs": [
    {
     "name": "stdout",
     "output_type": "stream",
     "text": [
      "함수생성\n"
     ]
    }
   ],
   "source": [
    "\"\"\"\n",
    "    [ 함수 ] [func]\n",
    "\n",
    "     - 반복적인 구문을 만들어 함수로 선언(정의)하여 간단하게 호출만 하고자 한다\n",
    "     - 역할별 구문을 작성한다\n",
    "\n",
    "     def 함수명(매개변수):\n",
    "        수행할 문장들\n",
    "\"\"\"\n",
    "# 인자값도, 리턴값도 없는 함수\n",
    "def func():\n",
    "    print('함수생성')\n",
    "result = func()"
   ]
  },
  {
   "cell_type": "code",
   "execution_count": 69,
   "metadata": {},
   "outputs": [
    {
     "data": {
      "text/plain": [
       "(15, 5)"
      ]
     },
     "execution_count": 69,
     "metadata": {},
     "output_type": "execute_result"
    }
   ],
   "source": [
    "#리턴값이 여러개 어떠한 언어도 2개이상 리턴해주는 언어는 없음!!\n",
    "def func1(arg):\n",
    "    return arg+5,arg-5\n",
    "\n",
    "result = func1(10)\n",
    "result\n",
    "\n",
    "# a, b = func1(10) #unpacking"
   ]
  },
  {
   "cell_type": "code",
   "execution_count": 71,
   "metadata": {},
   "outputs": [
    {
     "name": "stdout",
     "output_type": "stream",
     "text": [
      "Hi !!! jungmin nim~\n"
     ]
    }
   ],
   "source": [
    "def func2(greeting, name):\n",
    "    print(greeting, '!!!', name, 'nim~')\n",
    "\n",
    "func2('Hi', 'jungmin')"
   ]
  },
  {
   "cell_type": "code",
   "execution_count": 72,
   "metadata": {},
   "outputs": [
    {
     "name": "stdout",
     "output_type": "stream",
     "text": [
      "jungmin !!! 굿에프터눈~ nim~\n"
     ]
    }
   ],
   "source": [
    "func2('jungmin','굿에프터눈~')"
   ]
  },
  {
   "cell_type": "code",
   "execution_count": 74,
   "metadata": {},
   "outputs": [
    {
     "name": "stdout",
     "output_type": "stream",
     "text": [
      "굿애프터눈~ !!! jungmin nim~\n"
     ]
    }
   ],
   "source": [
    "#키워드 인자로 호출\n",
    "func2(name='jungmin',greeting='굿애프터눈~')\n",
    "    "
   ]
  },
  {
   "cell_type": "code",
   "execution_count": 76,
   "metadata": {},
   "outputs": [
    {
     "name": "stdout",
     "output_type": "stream",
     "text": [
      "하이 !!! jungmin nim~\n"
     ]
    }
   ],
   "source": [
    "def func3(greeting, name='jungmin'):\n",
    "    print(greeting,'!!!',name, 'nim~')\n",
    "\n",
    "func3('하이')"
   ]
  },
  {
   "cell_type": "code",
   "execution_count": 80,
   "metadata": {},
   "outputs": [
    {
     "data": {
      "text/plain": [
       "9"
      ]
     },
     "execution_count": 80,
     "metadata": {},
     "output_type": "execute_result"
    }
   ],
   "source": [
    "# args 키워드 (위치 인자 모으기)\n",
    "def func4(a,b,c=0,*args): #*args : 인자의 갯수를 모를때\n",
    "    sum = a+b+c\n",
    "    for i in args:\n",
    "        sum +=i; #<< 이거 설명 sum = sum + i\n",
    "    return sum\n",
    "func4(4,5)"
   ]
  },
  {
   "cell_type": "code",
   "execution_count": 81,
   "metadata": {},
   "outputs": [
    {
     "data": {
      "text/plain": [
       "15"
      ]
     },
     "execution_count": 81,
     "metadata": {},
     "output_type": "execute_result"
    }
   ],
   "source": [
    "func4(4,5,6)"
   ]
  },
  {
   "cell_type": "code",
   "execution_count": 82,
   "metadata": {},
   "outputs": [
    {
     "data": {
      "text/plain": [
       "39"
      ]
     },
     "execution_count": 82,
     "metadata": {},
     "output_type": "execute_result"
    }
   ],
   "source": [
    "func4(4,5,6,7,8,9)"
   ]
  },
  {
   "cell_type": "code",
   "execution_count": 86,
   "metadata": {},
   "outputs": [
    {
     "data": {
      "text/plain": [
       "39"
      ]
     },
     "execution_count": 86,
     "metadata": {},
     "output_type": "execute_result"
    }
   ],
   "source": [
    "#**kwargs 키워드(키워드 인자로만 전달할 때) : 딕셔너리형으로 들어감\n",
    "def func5(a, b, c = 100, *args, **kwargs):\n",
    "    #print(args)\n",
    "    #print(kwargs)\n",
    "    sum = a+ b+ c\n",
    "    for i in args:\n",
    "        sum += i\n",
    "    for k in kwargs:\n",
    "        sum += kwargs[k]\n",
    "    return sum\n",
    "#func5(10,29,30,40,60)\n",
    "func5(1,2,3,4,kor=10, eng=9, mat=10)"
   ]
  },
  {
   "cell_type": "code",
   "execution_count": 88,
   "metadata": {},
   "outputs": [],
   "source": [
    "# 함수도 객체이다(함수도 데이터가 될 수 있다)\n",
    "def case1():\n",
    "    print('case-1 함수')\n",
    "def case2():\n",
    "    print('case-2 함수')\n",
    "def case3():\n",
    "    print('case-3 함수')\n",
    "\n",
    "\n",
    "f = {'a1':case1, 'a2' : case2, 'a3' : case3}"
   ]
  },
  {
   "cell_type": "code",
   "execution_count": 91,
   "metadata": {},
   "outputs": [
    {
     "name": "stdout",
     "output_type": "stream",
     "text": [
      "case-2 함수\n"
     ]
    }
   ],
   "source": [
    "#딕셔너리 호출하는 방법!! 딕셔너리일흠 \n",
    "f['a2']()"
   ]
  },
  {
   "cell_type": "code",
   "execution_count": 92,
   "metadata": {},
   "outputs": [
    {
     "name": "stdout",
     "output_type": "stream",
     "text": [
      "1> 지역\n",
      "2> 지역\n"
     ]
    }
   ],
   "source": [
    "# 전역변수와 지역변수\n",
    "temp = '글로벌'\n",
    "def func():\n",
    "    #print(temp)\n",
    "    #temp = '지역'      # 새로 선언 (같은이름 쓰지마셈~ )\n",
    "    global temp\n",
    "    temp = '지역'\n",
    "    print('1>', temp)     \n",
    "func()\n",
    "print('2>',temp) "
   ]
  },
  {
   "cell_type": "code",
   "execution_count": null,
   "metadata": {},
   "outputs": [],
   "source": []
  }
 ],
 "metadata": {
  "kernelspec": {
   "display_name": "Python 3",
   "language": "python",
   "name": "python3"
  },
  "language_info": {
   "codemirror_mode": {
    "name": "ipython",
    "version": 3
   },
   "file_extension": ".py",
   "mimetype": "text/x-python",
   "name": "python",
   "nbconvert_exporter": "python",
   "pygments_lexer": "ipython3",
   "version": "3.11.3"
  }
 },
 "nbformat": 4,
 "nbformat_minor": 2
}
